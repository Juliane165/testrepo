{
 "cells": [
  {
   "cell_type": "markdown",
   "id": "3cbe32a3",
   "metadata": {},
   "source": [
    "# My Jupyter Notebook on IBM Watson Studio"
   ]
  },
  {
   "cell_type": "markdown",
   "id": "62a40d10",
   "metadata": {},
   "source": [
    "**Juliane Montalto**  \n",
    "People Planning Specialist"
   ]
  },
  {
   "cell_type": "markdown",
   "id": "f2edbbe1",
   "metadata": {},
   "source": [
    "*I am interessted in data science because it will help be to do my job better and to have more insight in our data.*"
   ]
  },
  {
   "cell_type": "markdown",
   "id": "0a5c652e",
   "metadata": {},
   "source": [
    "### In the following, you will see the print function!"
   ]
  },
  {
   "cell_type": "code",
   "execution_count": 3,
   "id": "fc1a9add",
   "metadata": {},
   "outputs": [
    {
     "name": "stdout",
     "output_type": "stream",
     "text": [
      "Are you ready for cat content?\n",
      "-------------------------------\n"
     ]
    }
   ],
   "source": [
    "print(\"Are you ready for cat content?\")\n",
    "print(\"-------------------------------\")"
   ]
  },
  {
   "cell_type": "markdown",
   "id": "366dff8c",
   "metadata": {},
   "source": [
    "---\n",
    "Cats are the best animals!\n",
    "- [ ] Oh yes!\n",
    "- [x] And dogs.\n",
    "- [ ] Dogs only!\n",
    "\n",
    "~~Don't show a picture of a cat!~~\n",
    "Here is a pic of a cat!\n",
    "\n",
    "![Cat](https://th.bing.com/th/id/R.bc3717b6fde200363705f118078f4f78?rik=IbkO8HGU7hOeqQ&riu=http%3a%2f%2fwww.funnykittensite.com%2fthumbs%2fCute_Tiny_Kittens_s.jpg&ehk=IZfU8KpiM9HfOKUkSDHOTtuK%2bwl0hVx5Vesuu7cJmX4%3d&risl=&pid=ImgRaw&r=0)\n",
    "\n",
    "***"
   ]
  },
  {
   "cell_type": "code",
   "execution_count": null,
   "id": "244b4149",
   "metadata": {},
   "outputs": [],
   "source": []
  }
 ],
 "metadata": {
  "kernelspec": {
   "display_name": "Python 3 (ipykernel)",
   "language": "python",
   "name": "python3"
  },
  "language_info": {
   "codemirror_mode": {
    "name": "ipython",
    "version": 3
   },
   "file_extension": ".py",
   "mimetype": "text/x-python",
   "name": "python",
   "nbconvert_exporter": "python",
   "pygments_lexer": "ipython3",
   "version": "3.9.12"
  }
 },
 "nbformat": 4,
 "nbformat_minor": 5
}
